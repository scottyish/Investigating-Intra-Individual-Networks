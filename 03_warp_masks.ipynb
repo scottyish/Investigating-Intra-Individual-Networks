{
 "cells": [
  {
   "cell_type": "code",
   "execution_count": null,
   "metadata": {},
   "outputs": [],
   "source": [
    "import glob\n",
    "import os\n",
    "import re\n",
    "import shutil\n",
    "import random\n",
    "import string\n",
    "import sys\n",
    "\n",
    "import numpy as np\n",
    "import pandas as pd\n",
    "\n",
    "import nilearn\n",
    "from nilearn import plotting, image\n",
    "from nilearn.input_data import NiftiMasker\n",
    "import nibabel as nib\n",
    "from nipype.interfaces import ants\n",
    "import nighres\n",
    "\n",
    "import subprocess\n",
    "import json\n",
    "import multiprocessing as mp\n",
    "from functools import partial\n",
    "import joblib\n",
    "from joblib import Parallel, delayed\n",
    "import itertools\n",
    "from utils import apply_warp\n",
    "\n",
    "import seaborn as sns\n",
    "import matplotlib.pyplot as plt\n",
    "%matplotlib inline"
   ]
  },
  {
   "cell_type": "markdown",
   "metadata": {},
   "source": [
    "# 1. Warp ATAG masks to T1w space\n",
    "We have all masks in MNI2009cAsym 1 mm space; hence, applying the composite warp to T1w and then the affine to functional data.\n",
    "\n",
    "These masks are from ATAG, Harvard-Oxford, combined with a binary preSMA mask (based on coordinates from Johannsen-Berg), the VTA masks from Anne and the recently published LC masks. Ie, they're a pot-pourri, useful for checking things"
   ]
  },
  {
   "cell_type": "code",
   "execution_count": null,
   "metadata": {
    "tags": []
   },
   "outputs": [],
   "source": [
    "all_subjects = [x.split('/')[-2].split('-')[-1] for x in sorted(glob.glob('../derivatives/fmriprep/fmriprep/sub*/ses-anatomical'))]\n",
    "# all_subjects = ['002','003','004','005','006','007','008','009','010','011']\n",
    "# all_subjects = ['012','013','014','015','016']\n",
    "# all_subjects = ['017','018','019','020','021']\n",
    "# all_subjects = ['022','023','024','025','026']\n",
    "# all_subjects = ['027','029','030','031','032']\n",
    "# all_subjects = ['043','044']\n",
    "\n",
    "def warp_masks_2_t1w(sub, overwrite=True):\n",
    "    print(sub)\n",
    "    regex_masks = re.compile('.*/space-MNI152NLin2009cAsym_label-(?P<label>\\S+)_probseg.nii.gz')\n",
    "    all_masks = sorted(glob.glob('../sourcedata/masks/MNI152NLin2009cAsym/*.nii.gz'))\n",
    "    \n",
    "    output_img_base = f'../derivatives/masks_atag_func/sub-{sub}/anat/sub-{sub}_space-T1w_desc-mask-{{label}}.nii.gz'\n",
    "    \n",
    "    for mask in all_masks:\n",
    "        mask_label = regex_masks.match(mask).groupdict()['label']\n",
    "        \n",
    "        final_img_fn = output_img_base.format(label=mask_label)\n",
    "        if not os.path.exists(final_img_fn) or overwrite:\n",
    "            os.makedirs(os.path.dirname(final_img_fn), exist_ok=True)\n",
    "            tmp_img_name = apply_warp(mask, sub=sub, t1w_to_MNI=False)\n",
    "            shutil.move(tmp_img_name, final_img_fn)\n",
    "            \n",
    "_ = [warp_masks_2_t1w(x) for x in all_subjects]\n",
    "with mp.Pool(20) as p:\n",
    "    p.map(warp_masks_2_t1w, all_subjects)\n",
    "    \n",
    "# warp_masks_2_t1w('042')"
   ]
  },
  {
   "cell_type": "markdown",
   "metadata": {},
   "source": [
    "# 2. Downsample MASSP masks to functional resolution\n",
    "\n",
    "Pilou runs MASSP using the multimodal anatomical qMRI data, which outputs binary masks in T1w-space / resolution *(plus posteriors, what to do with these?)*. For analyses of functional data, we need to downsample these. Here, we use linear interpolation."
   ]
  },
  {
   "cell_type": "code",
   "execution_count": null,
   "metadata": {},
   "outputs": [],
   "source": [
    "\n",
    "def warp_massp_map(args, atlas, target_img):\n",
    "    label_n, label = args\n",
    "    this_map = atlas.get_fdata().copy()\n",
    "    this_map[this_map!=(label_n+1)] = 0\n",
    "    this_map[this_map>0] = 1\n",
    "    this_map_nii = nib.Nifti1Image(this_map, atlas.affine)\n",
    "\n",
    "    # ok now we need to do this rather annoying temporary save thing agian\n",
    "    resampled_img = nilearn.image.resample_to_img(source_img=this_map_nii, target_img=target_img, interpolation='linear')\n",
    "    return {label: resampled_img}\n",
    "\n",
    "def load_MASSP_atlas_1p5mm(sub,overwrite=True): \n",
    "    labels_17structures = ['Str-l','Str-r','STN-l','STN-r','SN-l','SN-r',\\\n",
    "                           'RN-l','RN-r','GPi-l','GPi-r','GPe-l','GPe-r',\\\n",
    "                           'Tha-l','Tha-r','LV-l','LV-r','3V','4V','Amg-l','Amg-r',\\\n",
    "                           'ic-l','ic-r','VTA-l','VTA-r','fx','PAG-l','PAG-r',\\\n",
    "                           'PPN-l','PPN-r','Cl-l','Cl-r']\n",
    "\n",
    "    # save fns\n",
    "    save_fn_template = f'../derivatives/masks_massp_func/sub-{sub}/anat/sub-{sub}_space-T1w_desc-mask-{{}}.nii.gz'\n",
    "    if os.path.exists(save_fn_template.format('Str-l')) and not overwrite:\n",
    "        # Already warped, load atlas\n",
    "        maps = {}\n",
    "        for label in labels_17structures:\n",
    "            maps[label] = nib.load(save_fn_template.format(label))\n",
    "        \n",
    "    else:\n",
    "        atlas_fn = os.path.join('..', 'derivatives', 'nighres', f'sub-{sub}', 'ses-anatomical', 'subcortex', f'sub-{sub}_ses-anatomical_massp-labels.nii.gz')\n",
    "        if not os.path.exists(atlas_fn):\n",
    "            print(f'MASSP not yet run for sub-{sub} (returning 0 to prevent break)')\n",
    "            return 0\n",
    "        target_img = sorted(glob.glob(f'../derivatives/fmriprep/fmriprep/sub-{sub}/ses-*/func/sub-{sub}_ses-*_task-*_run-*_space-T1w_boldref.nii.gz'))[0]\n",
    "        atlas = nib.load(atlas_fn)\n",
    "\n",
    "        # now we need to reduce resolution to 1.5mm\n",
    "        with mp.Pool(32) as p:\n",
    "            maps = p.map(partial(warp_massp_map, atlas=atlas, target_img=target_img), enumerate(labels_17structures))\n",
    "        maps = {list(x.keys())[0]: list(x.values())[0] for x in maps}\n",
    "        \n",
    "        # save\n",
    "        os.makedirs(os.path.dirname(save_fn_template), exist_ok=True)\n",
    "        for label in labels_17structures:\n",
    "            maps[label].to_filename(save_fn_template.format(label))\n",
    "\n",
    "    return maps"
   ]
  },
  {
   "cell_type": "code",
   "execution_count": null,
   "metadata": {},
   "outputs": [],
   "source": [
    "[x.split('-')[1].split('.')[0] for x in sorted(glob.glob('../derivatives/fmriprep/fmriprep/sub-*.html'))]"
   ]
  },
  {
   "cell_type": "code",
   "execution_count": null,
   "metadata": {
    "scrolled": true,
    "tags": []
   },
   "outputs": [],
   "source": [
    "# check which subs have massps masks\n",
    "# all_subjects_massp = [x.split('/')[3].split('-')[-1] for x in sorted(glob.glob('../derivatives/nighres/sub-*/ses-anatomical/subcortex/sub*_massp-labels.nii.gz'))]\n",
    "# all_subjects_fmriprep = [x.split('-')[1].split('.')[0] for x in sorted(glob.glob('../derivatives/fmriprep/fmriprep/sub-*.html'))]\n",
    "# all_subjects = [x for x in all_subjects_massp if x in all_subjects_fmriprep]\n",
    "# all_subjects = ['002','003','004','005','006','007','008','009','010','011']\n",
    "# all_subjects = ['012','013','014','015','016']\n",
    "# all_subjects = ['017','018','019','020','021']\n",
    "# all_subjects = ['022','023','024','025','026']\n",
    "# all_subjects = ['027','029','030','031','032']\n",
    "#all_subjects = [x.split('-')[1].split('.')[0] for x in sorted(glob.glob('../derivatives/fmriprep/fmriprep/sub-*.html'))]\n",
    "# exclude subs that aren't fmriprepped yet\n",
    "# all_subjects = ['043','044']\n",
    "all_subjects = ['026']\n",
    "\n",
    "for subject in all_subjects:\n",
    "    print(subject)\n",
    "    load_MASSP_atlas_1p5mm(subject)"
   ]
  },
  {
   "cell_type": "markdown",
   "metadata": {},
   "source": [
    "## plotting & checking"
   ]
  },
  {
   "cell_type": "code",
   "execution_count": null,
   "metadata": {},
   "outputs": [],
   "source": [
    "def find_rois(sub, atlas_name='ATAG', space='T1w'):\n",
    "    if atlas_name == 'ATAG':\n",
    "        if space == 'MNI152NLin2009cAsym' or space == 'mni':\n",
    "            ### Rois in MNI09c-space\n",
    "            mask_dir='/home/Public/trondheim/sourcedata/masks/MNI152NLin2009cAsym_res-1p5'\n",
    "            fns = sorted(glob.glob(mask_dir + '/space-*'))\n",
    "            names = [re.match('.*space-(?P<space>[a-zA-Z0-9]+)_res-1p5_label-(?P<label>[a-zA-Z0-9]+)_probseg_def-img.nii.gz', fn).groupdict()['label'] for fn in fns]\n",
    "        else:\n",
    "            mask_dir = f'../derivatives/masks_atag_func/sub-{sub}/anat/sub-{sub}_*.nii.gz'\n",
    "            fns = sorted(glob.glob(mask_dir))\n",
    "            names = [re.match('.*space-(?P<space>[a-zA-Z0-9]+)_desc-mask-(?P<label>[a-zA-Z0-9]+).nii.gz', fn).groupdict()['label'] for fn in fns]\n",
    "    elif atlas_name == 'MASSP':\n",
    "        mask_dir = f'../derivatives/masks_massp_func/sub-{sub}/anat/sub-{sub}_*.nii.gz'\n",
    "        fns = sorted(glob.glob(mask_dir))\n",
    "        names = [re.match('.*space-(?P<space>[a-zA-Z0-9]+)_desc-mask-(?P<label>\\S+).nii.gz', fn).groupdict()['label'] for fn in fns]\n",
    "\n",
    "    roi_dict = dict(zip(names, fns))\n",
    "    return roi_dict\n",
    "\n",
    "def load_atlas(sub, atlas_name='MASSP', space='T1w'):\n",
    "    from nilearn import image\n",
    "    \n",
    "    roi_dict = find_rois(sub, atlas_name, space)\n",
    "    combined = image.concat_imgs(roi_dict.values())\n",
    "    \n",
    "    class AttrDict(dict):\n",
    "        def __init__(self, *args, **kwargs):\n",
    "            super(AttrDict, self).__init__(*args, **kwargs)\n",
    "            self.__dict__ = self\n",
    "            \n",
    "    roi_atlas = AttrDict({'maps': combined,\n",
    "                          'labels': roi_dict.keys()})\n",
    "    \n",
    "    return roi_atlas"
   ]
  },
  {
   "cell_type": "code",
   "execution_count": null,
   "metadata": {},
   "outputs": [],
   "source": [
    "all_boldrefs = sorted(glob.glob('../derivatives/fmriprep/fmriprep/sub-*/ses-*/func/sub*_space-T1w_boldref.nii.gz'))\n",
    "regex = re.compile('.*sub-(?P<sub>\\d+)_ses-(?P<ses>\\S+)_task-(?P<task>\\S+)_run-(?P<run>\\d)_space-T1w_boldref.nii.gz')\n",
    "\n",
    "# all_subs = [regex.match(x).groupdict()['sub'] for x in all_boldrefs]\n",
    "# all_subs = np.unique(all_subs)\n",
    "\n",
    "# sub = all_subs[0]\n",
    "\n",
    "# all_subs = ['002','003','004','005','006','007','008','009','010','011']\n",
    "# all_subs = ['012','013','014','015','016']\n",
    "# all_subs = ['017','018','019','020','021']\n",
    "# all_subs = ['022','023','024','025','026']\n",
    "# all_subs = ['027','029','030','031','032']\n",
    "all_subs = ['026']\n",
    "\n",
    "# loop over subs\n",
    "def plot_masks(sub):\n",
    "    boldrefs = sorted(glob.glob(f'../derivatives/fmriprep/fmriprep/sub-{sub}/ses-*/func/sub*_space-T1w_boldref.nii.gz'))\n",
    "#    boldrefs\n",
    "\n",
    "    for atlas_type in ['ATAG', 'MASSP']:\n",
    "        n_rows = len(boldrefs)\n",
    "        f, ax = plt.subplots(n_rows,3, figsize=(3*3,n_rows*3))\n",
    "\n",
    "        cut_coords={'x': 3, 'y': -3, 'z': 13}\n",
    "        for i, boldref in enumerate(boldrefs):\n",
    "            for ii, axis in enumerate(['x','y','z']):\n",
    "#                print(f'{i} {ii}...', end='')\n",
    "                nilearn.plotting.plot_prob_atlas(load_atlas(sub, atlas_name=atlas_type).maps, bg_img=boldref, axes=ax[i,ii], display_mode=axis, cut_coords=[cut_coords[axis]])\n",
    "        f.savefig(f'../mask_figures/sub-{sub}_space-T1w_{atlas_type}_boldref.pdf', bbox_inches='tight')\n",
    "        \n",
    "out = joblib.Parallel(n_jobs=1, verbose=True)(joblib.delayed(plot_masks)(x) for x in all_subs)"
   ]
  },
  {
   "cell_type": "code",
   "execution_count": null,
   "metadata": {},
   "outputs": [],
   "source": [
    "masks_t1w = nib.load('../derivatives/nighres/sub-026/ses-anatomical/subcortex/sub-026_ses-anatomical_massp-labels.nii.gz')\n",
    "t1w = nib.load('../derivatives/fmriprep/fmriprep/sub-026/anat/sub-026_desc-preproc_T1w.nii.gz')\n",
    "plotting.plot_stat_map(masks_t1w, bg_img=t1w)"
   ]
  },
  {
   "cell_type": "code",
   "execution_count": null,
   "metadata": {},
   "outputs": [],
   "source": [
    "masks_t1w = nib.load('../derivatives/nighres/sub-004/ses-anatomical/subcortex/sub-004_ses-anatomical_massp-labels.nii.gz')\n",
    "t1w = nib.load('../derivatives/fmriprep/fmriprep/sub-004/anat/sub-004_desc-preproc_T1w.nii.gz')\n",
    "plotting.plot_stat_map(masks_t1w, bg_img=t1w)"
   ]
  },
  {
   "cell_type": "code",
   "execution_count": null,
   "metadata": {},
   "outputs": [],
   "source": [
    "sub = '015'\n",
    "boldref = sorted(glob.glob(f'../derivatives/fmriprep/fmriprep/sub-{sub}/ses-*/func/sub-{sub}_ses-*_task-*_run-*_space-T1w_boldref.nii.gz'))[3]\n",
    "nilearn.plotting.plot_prob_atlas(load_atlas(sub).maps, bg_img=boldref)"
   ]
  },
  {
   "cell_type": "code",
   "execution_count": null,
   "metadata": {},
   "outputs": [],
   "source": [
    "sub = '026'\n",
    "boldref = sorted(glob.glob(f'../derivatives/fmriprep/fmriprep/sub-{sub}/ses-*/func/sub-{sub}_ses-*_task-*_run-*_space-T1w_boldref.nii.gz'))[3]\n",
    "nilearn.plotting.plot_prob_atlas(load_atlas(sub).maps, bg_img=boldref)"
   ]
  }
 ],
 "metadata": {
  "kernelspec": {
   "display_name": "Python 3",
   "language": "python",
   "name": "python3"
  },
  "language_info": {
   "codemirror_mode": {
    "name": "ipython",
    "version": 3
   },
   "file_extension": ".py",
   "mimetype": "text/x-python",
   "name": "python",
   "nbconvert_exporter": "python",
   "pygments_lexer": "ipython3",
   "version": "3.8.10"
  }
 },
 "nbformat": 4,
 "nbformat_minor": 4
}
