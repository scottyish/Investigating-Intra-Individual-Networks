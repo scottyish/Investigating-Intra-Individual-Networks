{
 "cells": [
  {
   "cell_type": "markdown",
   "metadata": {},
   "source": [
    "# warp other masks to functional space"
   ]
  },
  {
   "cell_type": "code",
   "execution_count": null,
   "metadata": {},
   "outputs": [],
   "source": [
    "import glob\n",
    "import os\n",
    "import re\n",
    "import shutil\n",
    "import random\n",
    "import string\n",
    "\n",
    "import numpy as np\n",
    "import pandas as pd\n",
    "\n",
    "import nilearn\n",
    "from nilearn import plotting, image\n",
    "from nilearn.input_data import NiftiMasker\n",
    "import nibabel as nib\n",
    "from nipype.interfaces import ants\n",
    "import nighres\n",
    "\n",
    "import subprocess\n",
    "import json\n",
    "import multiprocessing as mp\n",
    "from functools import partial\n",
    "import joblib\n",
    "from joblib import Parallel, delayed\n",
    "import itertools\n",
    "from utils import apply_warp\n",
    "\n",
    "import seaborn as sns\n",
    "import matplotlib.pyplot as plt\n",
    "%matplotlib inline"
   ]
  },
  {
   "cell_type": "code",
   "execution_count": null,
   "metadata": {},
   "outputs": [],
   "source": [
    "all_subjects = [x.split('/')[-2].split('-')[-1] for x in sorted(glob.glob('../derivatives/fmriprep/fmriprep/sub*/ses-anatomical'))]\n",
    "all_subjects"
   ]
  },
  {
   "cell_type": "markdown",
   "metadata": {},
   "source": [
    "## Warp hardvard oxford masks to functional space"
   ]
  },
  {
   "cell_type": "code",
   "execution_count": null,
   "metadata": {},
   "outputs": [],
   "source": [
    "all_subjects = [x.split('/')[-2].split('-')[-1] for x in sorted(glob.glob('../derivatives/fmriprep/fmriprep/sub*/ses-anatomical'))]\n",
    "# all_subjects = ['024']\n",
    "def warp_masks_2_t1w(sub, overwrite=True):\n",
    "    print(sub)\n",
    "    regex_masks = re.compile('.*/MNI152NLin2009cAsym_1mm_label-(?P<label>\\S+).nii.gz')\n",
    "    all_masks = sorted(glob.glob('../sourcedata/masks/HarvardOxford_MNI152NLin2009cAsym/*.nii.gz'))\n",
    "    \n",
    "    output_img_base = f'../derivatives/masks_cortex_func/sub-{sub}/anat/sub-{sub}_space-T1w_desc-mask-{{label}}.nii.gz'\n",
    "#     print(output_img_base)\n",
    "    for mask in all_masks:\n",
    "        mask_label = regex_masks.match(mask).groupdict()['label']\n",
    "\n",
    "        final_img_fn = output_img_base.format(label=mask_label)\n",
    "        if not os.path.exists(final_img_fn) or overwrite:\n",
    "            os.makedirs(os.path.dirname(final_img_fn), exist_ok=True)\n",
    "            tmp_img_name = apply_warp(mask, sub=sub, t1w_to_MNI=False)\n",
    "            shutil.move(tmp_img_name, final_img_fn)\n",
    "            \n",
    "# _ = [warp_masks_2_t1w(x) for x in all_subjects]\n",
    "with mp.Pool(20) as p:\n",
    "    p.map(warp_masks_2_t1w, all_subjects)"
   ]
  },
  {
   "cell_type": "markdown",
   "metadata": {},
   "source": [
    "## warp harvard oxford striatum masks to t1 space\n",
    "not sure which MNI152, but seem to overlap well with MNI152NLin2009cAsym_1mm"
   ]
  },
  {
   "cell_type": "code",
   "execution_count": null,
   "metadata": {
    "scrolled": true
   },
   "outputs": [],
   "source": [
    "#all_subjects = [x.split('/')[-2].split('-')[-1] for x in sorted(glob.glob('../derivatives/fmriprep/fmriprep/sub*/ses-anatomical'))]\n",
    "# all_subjects = ['043', '044']\n",
    "def warp_masks_2_t1w(sub, overwrite=True):\n",
    "    print(sub)\n",
    "    regex_masks = re.compile('.*/MNI_1mm_label-(?P<label>\\S+).nii.gz')\n",
    "    all_masks = sorted(glob.glob('../sourcedata/masks/HarvardOxford_striatum/*.nii.gz'))\n",
    "    \n",
    "    output_img_base = f'../derivatives/masks_striatum_func/sub-{sub}/anat/sub-{sub}_space-T1w_desc-mask-{{label}}.nii.gz'\n",
    "#     print(output_img_base)\n",
    "    for mask in all_masks:\n",
    "        mask_label = regex_masks.match(mask).groupdict()['label']\n",
    "        print(mask_label)\n",
    "        final_img_fn = output_img_base.format(label=mask_label)\n",
    "        print(final_img_fn)\n",
    "        if not os.path.exists(final_img_fn) or overwrite:\n",
    "            os.makedirs(os.path.dirname(final_img_fn), exist_ok=True)\n",
    "            tmp_img_name = apply_warp(mask, sub=sub, t1w_to_MNI=False)\n",
    "            shutil.move(tmp_img_name, final_img_fn)\n",
    "            \n",
    "# _ = [warp_masks_2_t1w(x) for x in all_subjects]\n",
    "with mp.Pool(10) as p:\n",
    "    p.map(warp_masks_2_t1w, all_subjects)"
   ]
  },
  {
   "cell_type": "markdown",
   "metadata": {},
   "source": [
    "## warp harvard oxford striatum masks to t1 space\n",
    "use MNI2009c folder"
   ]
  },
  {
   "cell_type": "code",
   "execution_count": null,
   "metadata": {},
   "outputs": [],
   "source": [
    "#all_subjects = [x.split('/')[-2].split('-')[-1] for x in sorted(glob.glob('../derivatives/fmriprep/fmriprep/sub*/ses-anatomical'))]\n",
    "# all_subjects = ['043', '044']\n",
    "def warp_masks_2_t1w(sub, overwrite=True):\n",
    "    print(sub)\n",
    "    regex_masks = re.compile('.*/MNI152NLin2009cAsym_1mm_label-(?P<label>\\S+)_def-img.nii.gz')\n",
    "    all_masks = sorted(glob.glob('../sourcedata/masks/HarvardOxford_striatum_MNI152NLin2009cAsym/*.nii.gz'))\n",
    "    \n",
    "    output_img_base = f'../derivatives/masks_str_func/sub-{sub}/anat/sub-{sub}_space-T1w_desc-mask-{{label}}.nii.gz'\n",
    "#     print(output_img_base)\n",
    "    for mask in all_masks:\n",
    "        mask_label = regex_masks.match(mask).groupdict()['label']\n",
    "        print(mask_label)\n",
    "        final_img_fn = output_img_base.format(label=mask_label)\n",
    "        print(final_img_fn)\n",
    "        if not os.path.exists(final_img_fn) or overwrite:\n",
    "            os.makedirs(os.path.dirname(final_img_fn), exist_ok=True)\n",
    "            tmp_img_name = apply_warp(mask, sub=sub, t1w_to_MNI=False)\n",
    "            shutil.move(tmp_img_name, final_img_fn)\n",
    "            \n",
    "# _ = [warp_masks_2_t1w(x) for x in all_subjects]\n",
    "with mp.Pool(10) as p:\n",
    "    p.map(warp_masks_2_t1w, all_subjects)"
   ]
  },
  {
   "cell_type": "markdown",
   "metadata": {},
   "source": [
    "# warp HCP_MMP1 IFG masks to functional space"
   ]
  },
  {
   "cell_type": "code",
   "execution_count": null,
   "metadata": {},
   "outputs": [],
   "source": [
    "all_subjects = [x.split('/')[-2].split('-')[-1] for x in sorted(glob.glob('../derivatives/fmriprep/fmriprep/sub*/ses-anatomical'))]\n",
    "# all_subjects = ['024']\n",
    "def warp_masks_2_t1w(sub, overwrite=True):\n",
    "    print(sub)\n",
    "    regex_masks = re.compile('.*/HCP_MMP1_MNI152NLin2009cAsym_1mm_label-(?P<label>\\S+).nii.gz')\n",
    "    all_masks = sorted(glob.glob('../sourcedata/masks/HCP_MMP1_MNI152NLin2009cAsym/*.nii.gz'))\n",
    "    \n",
    "    output_img_base = f'../derivatives/masks_HCP_MMP1_func/sub-{sub}/anat/sub-{sub}_space-T1w_desc-mask-{{label}}.nii.gz'\n",
    "#     print(output_img_base)\n",
    "    for mask in all_masks:\n",
    "        mask_label = regex_masks.match(mask).groupdict()['label']\n",
    "\n",
    "        final_img_fn = output_img_base.format(label=mask_label)\n",
    "        if not os.path.exists(final_img_fn) or overwrite:\n",
    "            os.makedirs(os.path.dirname(final_img_fn), exist_ok=True)\n",
    "            tmp_img_name = apply_warp(mask, sub=sub, t1w_to_MNI=False)\n",
    "            shutil.move(tmp_img_name, final_img_fn)\n",
    "            \n",
    "# _ = [warp_masks_2_t1w(x) for x in all_subjects]\n",
    "with mp.Pool(20) as p:\n",
    "    p.map(warp_masks_2_t1w, all_subjects)"
   ]
  },
  {
   "cell_type": "markdown",
   "metadata": {},
   "source": [
    "# Convert AAL3 atlas from SPM MNI to MNI200cAsym"
   ]
  },
  {
   "cell_type": "markdown",
   "metadata": {},
   "source": [
    "use ants registration in nighres to register weird SPM MNI image to MNI2009c"
   ]
  },
  {
   "cell_type": "code",
   "execution_count": null,
   "metadata": {},
   "outputs": [],
   "source": [
    "import nighres\n",
    "\n",
    "def apply_ants(source,target):\n",
    "    \n",
    "    nighres.registration.embedded_antsreg(source,target,run_rigid=True,run_affine=False,ignore_header=True,ignore_affine=True, overwrite=True,\n",
    "                                         save_data=True,output_dir='../sourcedata/masks/aal3_atlas',file_name='AAL3v1_MNI_to_MNI2009c.nii.gz')\n",
    "\n",
    "source = '../sourcedata/masks/aal3_atlas/ROI_MNI_V7_1mm.nii.gz'\n",
    "target = '../sourcedata/templates/mni_icbm152_t1_tal_nlin_asym_09c_brain.nii'\n",
    "apply_ants(source,target)"
   ]
  },
  {
   "cell_type": "code",
   "execution_count": null,
   "metadata": {},
   "outputs": [],
   "source": [
    "import nipype\n",
    "import nibabel as nib\n",
    "import os\n",
    "import random\n",
    "import string\n",
    "import glob\n",
    "\n",
    "# make sure you dont input a 4D image\n",
    "def apply_mni_warp(img,interpolation='Linear'):\n",
    "    ''' img can be a file path (preferred) OR a nifti1Image (which will be temporarily saved and then provided as a filepath to ants) '''\n",
    "    from nipype.interfaces import ants\n",
    "\n",
    "    if isinstance(img, str):\n",
    "        if not os.path.exists(img):\n",
    "            raise(IOError('img must either be a string pointing to an existing file, or a Nifti1Image. You passed: {}'.format(img)))\n",
    "        input_is_img = False\n",
    "    elif isinstance(img, nib.Nifti1Image):\n",
    "        # save file, use a random string in name\n",
    "        import random\n",
    "        import string\n",
    "\n",
    "        tmp1_name = './tmp_img_to_warp-{}.nii.gz'.format(''.join(random.choices(string.ascii_letters + string.digits, k=10)))\n",
    "        img.to_filename(tmp1_name)  # save to temporary file\n",
    "        img = tmp1_name\n",
    "        input_is_img = True\n",
    "    else:\n",
    "        raise(IOError('Input type not understood... img must either be a string pointing to an existing file, or a Nifti1Header. You passed: {}'.format(img)))\n",
    "    \n",
    "    # find affine & composite warp\n",
    "#     if t1w_to_MNI:\n",
    "    ## warping an img from functional T1w space (1.5 mm) to MNI2009c (1 mm)\n",
    "    composite_warp_name = 'from-MNI_to-MNI152NLin2009b'\n",
    "    template_brain = '../sourcedata/templates/mni_icbm152_nlin_sym_09b/mni_icbm152_t1_tal_nlin_sym_09b_hires.nii'\n",
    "    out_postfix = '_warped_2_MNI2009b'\n",
    "#     else:\n",
    "#         ## warping an img from MNI2009c (1 mm) to functional T1w space (1.5 mm)\n",
    "#         composite_warp_name = 'from-MNI152NLin2009cAsym_to-T1w'\n",
    "#         # use first bold_ref as reference img\n",
    "#         boldrefs = sorted(glob.glob(os.path.join('..', 'derivatives', 'fmriprep', 'fmriprep', f'sub-{sub}', 'ses-*', 'func', \n",
    "#                                       f'sub-*_ses-*_task-*_run-1_space-T1w_boldref.nii.gz')))\n",
    "#         template_brain = boldrefs[0]\n",
    "#         out_postfix = f'_warped_2_T1w_sub-{sub}'\n",
    "\n",
    "    composite_xfm = '/home/Public/trondheim/sourcedata/templates/MNI_6thgen_2_MNI2009b.h5'\n",
    "        \n",
    "#     composite_xfm = os.path.join('..', 'derivatives', 'fmriprep', 'fmriprep', f'sub-{sub}', 'anat', \n",
    "#                              f'sub-{sub}_{composite_warp_name}_mode-image_xfm.h5')\n",
    "#     if not os.path.exists(composite_xfm):\n",
    "#         # if there's _only_ an anatomical session and no other sessions, the warp (.h5 file) is in a different place with a slightly different name...\n",
    "#         composite_xfm = os.path.join('..', 'derivatives', 'fmriprep', 'fmriprep', f'sub-{sub}', 'ses-anatomical', 'anat', \n",
    "#                              f'sub-{sub}_ses-anatomical_{composite_warp_name}_mode-image_xfm.h5')\n",
    "    \n",
    "    output_img_name = os.path.basename(img).replace('.nii.gz', '') + out_postfix + '.nii.gz'\n",
    "    \n",
    "    # ants set-up\n",
    "    warp = ants.ApplyTransforms()\n",
    "    warp.inputs.input_image = img\n",
    "    warp.inputs.input_image_type = 0\n",
    "    warp.inputs.interpolation = interpolation\n",
    "    warp.inputs.invert_transform_flags = [False] #,False]\n",
    "    warp.inputs.reference_image = template_brain\n",
    "    warp.inputs.out_postfix = out_postfix\n",
    "    \n",
    "#     if t1w_to_MNI:\n",
    "#         warp.inputs.transforms = [composite_xfm]\n",
    "#     else:\n",
    "#     warp.inputs.transforms = [composite_xfm]\n",
    "    \n",
    "    res = warp.run()\n",
    "    \n",
    "    if input_is_img:\n",
    "        os.remove(img)  # remove temporary file again, all we care is the output anyway\n",
    "    return str(res.outputs.output_image)"
   ]
  },
  {
   "cell_type": "code",
   "execution_count": null,
   "metadata": {},
   "outputs": [],
   "source": [
    "new = apply_mni_warp('/home/Public/trondheim/sourcedata/masks/aal3_atlas/ROI_MNI_V7_1mm.nii')"
   ]
  },
  {
   "cell_type": "code",
   "execution_count": null,
   "metadata": {},
   "outputs": [],
   "source": [
    "!antsApplyTransforms --default-value 0 --float 0 --input /home/Public/trondheim/sourcedata/masks/aal3_atlas/ROI_MNI_V7_1mm.nii --input-image-type 0 --interpolation Linear --output ROI_MNI_V7_1mm_warped_2_MNI2009b.nii --reference-image ../sourcedata/templates/mni_icbm152_nlin_asym_09b/mni_icbm152_t1_tal_nlin_asym_09b_hires.nii --transform /home/Public/trondheim/sourcedata/templates/MNI_6thgen_2_MNI2009b.h5"
   ]
  },
  {
   "cell_type": "markdown",
   "metadata": {},
   "source": [
    "## Pauli atlas\n",
    "\n"
   ]
  },
  {
   "cell_type": "code",
   "execution_count": null,
   "metadata": {},
   "outputs": [],
   "source": [
    "Pauli_labels = {\n",
    "'1':  \"Pu\",\n",
    "'2':   'Ca',\n",
    "'3':   \"NAC\",\n",
    "'4':   'EXA',\n",
    "'5':   'GPe',\n",
    "'6':   'GPi',\n",
    "'7':   'SNc',\n",
    "'8':   'RN',\n",
    "'9':   'SNr', \n",
    "'10':   'PBP',\n",
    "'11':  'VTA',\n",
    "'12':  \"VeP\",\n",
    "'13':  'HN',\n",
    "'14':  'HTH',\n",
    "'15':  'MN',\n",
    "'16':  'STH',\n",
    "}"
   ]
  },
  {
   "cell_type": "code",
   "execution_count": null,
   "metadata": {},
   "outputs": [],
   "source": [
    "print(Pauli_labels['3'])"
   ]
  },
  {
   "cell_type": "markdown",
   "metadata": {},
   "source": [
    "### rename Pauli files in /home/Public/trondheim/sourcedata/masks/Pauli2017_atlas"
   ]
  },
  {
   "cell_type": "code",
   "execution_count": null,
   "metadata": {},
   "outputs": [],
   "source": [
    "structures_list =[x.split('/')[-1] for x in sorted(glob.glob('/home/Public/trondheim/sourcedata/masks/Pauli2017_atlas/Pauli_atlas/CIT168toMNI152_prob_atlas_bilat_1mm__*'))]\n",
    "structures_list"
   ]
  },
  {
   "cell_type": "code",
   "execution_count": null,
   "metadata": {},
   "outputs": [],
   "source": [
    "\n",
    "# #rename Pauli files\n",
    "\n",
    "# for x, i in enumerate(structures_list):\n",
    "\n",
    "#         old_label = structures_list[x].split('.')[0]\n",
    "#         print(old_label)\n",
    "#         keep_label= old_label.split('_(')[0]\n",
    "#         old_label= old_label.split('volume ')[1]\n",
    "#         index = old_label.split(')')[0]\n",
    "#         new_label = keep_label+Pauli_labels[index]\n",
    "#         print(new_label)\n",
    "\n"
   ]
  },
  {
   "cell_type": "code",
   "execution_count": null,
   "metadata": {},
   "outputs": [],
   "source": [
    "import os\n",
    "\n",
    "\n",
    "for x, i in enumerate(structures_list):\n",
    "\n",
    "        original_label = structures_list[x].split('.')[0]\n",
    "        print(original_label)\n",
    "        keep_label= original_label.split('_(')[0]\n",
    "        old_label= original_label.split('volume ')[1]\n",
    "        index = old_label.split(')')[0]\n",
    "        new_label = keep_label+Pauli_labels[index]\n",
    "        print(new_label)\n",
    "\n",
    "        old_file = os.path.join('/home/Public/trondheim/sourcedata/masks/Pauli2017_atlas/Pauli_atlas/', original_label+'.nii.gz')\n",
    "        new_file = os.path.join('/home/Public/trondheim/sourcedata/masks/Pauli2017_atlas/Pauli_atlas/', new_label+'.nii.gz')\n",
    "        os.rename(old_file, new_file)"
   ]
  },
  {
   "cell_type": "markdown",
   "metadata": {},
   "source": [
    "\n",
    "### threshold and binarize"
   ]
  },
  {
   "cell_type": "code",
   "execution_count": null,
   "metadata": {},
   "outputs": [],
   "source": [
    "# masks =sorted(glob.glob('/home/Public/trondheim/sourcedata/masks/Pauli2017_atlas/Pauli_atlas/CIT168toMNI152_prob_atlas*'))\n",
    "# masks"
   ]
  },
  {
   "cell_type": "code",
   "execution_count": null,
   "metadata": {},
   "outputs": [],
   "source": [
    "labels = [  \"Pu\",\n",
    "  'Ca',\n",
    "   \"NAC\",\n",
    "   'EXA',\n",
    "  'GPe',\n",
    "  'GPi',\n",
    "  'SNc',\n",
    "   'RN',\n",
    "   'SNr', \n",
    "   'PBP',\n",
    " 'VTA',\n",
    " \"VeP\",\n",
    "  'HN',\n",
    "  'HTH',\n",
    " 'MN',\n",
    " 'STH']\n",
    "labels"
   ]
  },
  {
   "cell_type": "code",
   "execution_count": null,
   "metadata": {},
   "outputs": [],
   "source": [
    "def threshold_and_binarize(labels):\n",
    "    \n",
    "    label = labels\n",
    "    input_file = '/home/Public/trondheim/sourcedata/masks/Pauli2017_atlas/Pauli_atlas/CIT168toMNI152_prob_atlas_bilat_1mm_'+label+'.nii.gz'\n",
    "    \n",
    "    ouput_file_name = '/home/Public/trondheim/sourcedata/masks/Pauli2017_atlas/Pauli_atlas/bin_thresh30/CIT168toMNI152_prob_atlas_bilat_1mm_'+label+'_bin.nii.gz'\n",
    "    \n",
    "    \n",
    "    command = 'fslmaths '+input_file+' -thr 0.3 -bin ' +ouput_file_name\n",
    "    print(command)\n",
    "    try:\n",
    "         subprocess.check_output(command, shell=True, stderr=subprocess.STDOUT)\n",
    "    except subprocess.CalledProcessError as e:\n",
    "        msg = 'execution failed (error code '+str(e.returncode)+')\\n Output: '+str(e.output)\n",
    "        raise subprocess.CalledProcessError(msg)\n",
    "\n",
    "    \n",
    "with mp.Pool(1) as p:\n",
    "    p.map(threshold_and_binarize, labels)\n",
    "\n",
    "    "
   ]
  },
  {
   "cell_type": "markdown",
   "metadata": {},
   "source": [
    "### make bilateral masks / split masks\n"
   ]
  },
  {
   "cell_type": "code",
   "execution_count": null,
   "metadata": {},
   "outputs": [],
   "source": [
    "def split_bilateral_atlas(labels):\n",
    "    \n",
    "    label = labels\n",
    "    input_file = '/home/Public/trondheim/sourcedata/masks/Pauli2017_atlas/Pauli_atlas/bin_thresh30/CIT168toMNI152_prob_atlas_bilat_1mm_'+label+'_bin.nii.gz'\n",
    "    \n",
    "    #ouput_file_name = \n",
    "    \n",
    "    \n",
    "    command = 'fslmaths '+input_file+' -roi 97 -1 -1 -1 -1 -1 -1 -1 /home/Public/trondheim/sourcedata/masks/Pauli2017_atlas/'+label+'-r.nii.gz'\n",
    "    print('create right '+label+ ' mask')\n",
    "    print(command)\n",
    "    try:\n",
    "         subprocess.check_output(command, shell=True, stderr=subprocess.STDOUT)\n",
    "    except subprocess.CalledProcessError as e:\n",
    "        msg = 'execution failed (error code '+str(e.returncode)+')\\n Output: '+str(e.output)\n",
    "        raise subprocess.CalledProcessError(msg)\n",
    "\n",
    "    \n",
    "    command = 'fslmaths '+input_file+' -roi -1 97 -1 -1 -1 -1 -1 -1 /home/Public/trondheim/sourcedata/masks/Pauli2017_atlas/'+label+'-l.nii.gz'\n",
    "    print('create left '+label+ ' mask')\n",
    "\n",
    "    print(command)\n",
    "    try:\n",
    "         subprocess.check_output(command, shell=True, stderr=subprocess.STDOUT)\n",
    "    except subprocess.CalledProcessError as e:\n",
    "        msg = 'execution failed (error code '+str(e.returncode)+')\\n Output: '+str(e.output)\n",
    "        raise subprocess.CalledProcessError(msg)\n",
    "    \n",
    "with mp.Pool(1) as p:\n",
    "    p.map(split_bilateral_atlas, labels)\n",
    "\n",
    "    "
   ]
  },
  {
   "cell_type": "markdown",
   "metadata": {},
   "source": [
    "## warp Pauli atlas to t1"
   ]
  },
  {
   "cell_type": "code",
   "execution_count": null,
   "metadata": {},
   "outputs": [],
   "source": [
    "all_subjects = [x.split('/')[-2].split('-')[-1] for x in sorted(glob.glob('../derivatives/fmriprep/fmriprep/sub*/ses-anatomical'))]\n",
    "all_subjects"
   ]
  },
  {
   "cell_type": "code",
   "execution_count": null,
   "metadata": {},
   "outputs": [],
   "source": [
    "all_subjects = [x.split('/')[-2].split('-')[-1] for x in sorted(glob.glob('../derivatives/fmriprep/fmriprep/sub*/ses-anatomical'))]\n",
    "# all_subjects = ['024']\n",
    "def warp_masks_2_t1w(sub, overwrite=True):\n",
    "    print(sub)\n",
    "    regex_masks = re.compile('.*/(?P<label>\\S+).nii.gz')\n",
    "    all_masks = sorted(glob.glob('../sourcedata/masks/Pauli2017_atlas/*.nii.gz'))\n",
    "    \n",
    "    output_img_base = f'../derivatives/masks_Pauli_func/sub-{sub}/anat/sub-{sub}_space-T1w_desc-mask-{{label}}.nii.gz'\n",
    "#     print(output_img_base)\n",
    "    for mask in all_masks:\n",
    "        mask_label = regex_masks.match(mask).groupdict()['label']\n",
    "\n",
    "        final_img_fn = output_img_base.format(label=mask_label)\n",
    "        if not os.path.exists(final_img_fn) or overwrite:\n",
    "            os.makedirs(os.path.dirname(final_img_fn), exist_ok=True)\n",
    "            tmp_img_name = apply_warp(mask, sub=sub, t1w_to_MNI=False)\n",
    "            shutil.move(tmp_img_name, final_img_fn)\n",
    "            \n",
    "# _ = [warp_masks_2_t1w(x) for x in all_subjects]\n",
    "with mp.Pool(20) as p:\n",
    "    p.map(warp_masks_2_t1w, all_subjects)"
   ]
  },
  {
   "cell_type": "markdown",
   "metadata": {},
   "source": [
    "## downsample to functional space\n",
    "\n",
    "# already done in output of previous step somehow... so, no downsampling required?!"
   ]
  },
  {
   "cell_type": "code",
   "execution_count": null,
   "metadata": {},
   "outputs": [],
   "source": [
    "masks =[x.split('/')[-1].split('.')[0]  for x in sorted(glob.glob('/home/Public/trondheim/sourcedata/masks/Pauli2017_atlas/*.nii.gz'))]\n",
    "masks"
   ]
  },
  {
   "cell_type": "markdown",
   "metadata": {},
   "source": [
    "### requires all masks combined into one atlas... which is currently not the case for Pauli\n",
    "\n",
    "or does warp_Pauli_map() do that?\n",
    "\n",
    "## okay, I give up for now. does not work... "
   ]
  },
  {
   "cell_type": "code",
   "execution_count": null,
   "metadata": {},
   "outputs": [],
   "source": [
    "\n",
    "def warp_Pauli_map(args, atlas, target_img):\n",
    "    label_n, label = args\n",
    "    this_map = atlas.get_fdata().copy()\n",
    "    this_map[this_map!=(label_n+1)] = 0\n",
    "    this_map[this_map>0] = 1\n",
    "    this_map_nii = nib.Nifti1Image(this_map, atlas.affine)\n",
    "\n",
    "    # ok now we need to do this rather annoying temporary save thing agian\n",
    "    resampled_img = nilearn.image.resample_to_img(source_img=this_map_nii, target_img=target_img, interpolation='linear')\n",
    "    return {label: resampled_img}\n",
    "\n",
    "\n",
    "#\n",
    "def load_Pauli_atlas_1p5mm(sub,overwrite=True): \n",
    "    labels = ['Ca-l','Ca-r', 'EXA-l', 'EXA-r', 'GPe-l', 'GPe-r', 'GPi-l', 'GPi-r', 'HN-l', 'HN-r',\n",
    "              'HTH-l', 'HTH-r', 'MN-l', 'MN-r', 'NAC-l', 'NAC-r', 'PBP-l','PBP-r','Pu-l','Pu-r',\n",
    "              'RN-l', 'RN-r', 'SNc-l', 'SNc-r', 'SNr-l', 'SNr-r', 'STH-l', 'STH-r', 'VTA-l', 'VTA-r','VeP-l','VeP-r']\n",
    "\n",
    "\n",
    "    # save fns\n",
    "    save_fn_template = f'/home/Public/trondheim/derivatives/masks_Pauli_func/sub-{sub}/anat/sub-{sub}_space-T1w_desc-mask-{{}}.nii.gz'\n",
    "    if os.path.exists(save_fn_template.format('Ca-l')) and not overwrite:\n",
    "        # Already warped, load atlas\n",
    "        maps = {}\n",
    "        for label in labels:\n",
    "            maps[label] = nib.load(save_fn_template.format(label))\n",
    "        \n",
    "    else:\n",
    "        atlas_fn = os.path.join('home','Public','trondheim', 'derivatives', 'masks_Pauli_func', f'sub-{sub}', 'anat', f'sub-{sub}_space-T1w_desc-mask-{{}}.nii.gz')\n",
    "        if not os.path.exists(atlas_fn):\n",
    "            print(f'Pauli not yet available for sub-{sub} (returning 0 to prevent break)')\n",
    "            return 0\n",
    "        target_img = sorted(glob.glob(f'../derivatives/fmriprep/fmriprep/sub-{sub}/ses-*/func/sub-{sub}_ses-*_task-*_run-*_space-T1w_boldref.nii.gz'))[0]\n",
    "        atlas = nib.load(atlas_fn)\n",
    "\n",
    "        # now we need to reduce resolution to 1.5mm\n",
    "        with mp.Pool(32) as p:\n",
    "            maps = p.map(partial(warp_Pauli_map, atlas=atlas, target_img=target_img), enumerate(labels))\n",
    "        maps = {list(x.keys())[0]: list(x.values())[0] for x in maps}\n",
    "        \n",
    "        # save\n",
    "        os.makedirs(os.path.dirname(save_fn_template), exist_ok=True)\n",
    "        for label in labels:\n",
    "            maps[label].to_filename(save_fn_template.format(label))\n",
    "\n",
    "    return maps"
   ]
  },
  {
   "cell_type": "code",
   "execution_count": null,
   "metadata": {},
   "outputs": [],
   "source": [
    "with mp.Pool(32) as p:\n",
    "    maps = p.map(partial(warp_Pauli_map, atlas=atlas, target_img=target_img), enumerate(labels))\n",
    "    maps = {list(x.keys())[0]: list(x.values())[0] for x in maps}\n",
    "        \n",
    "    # save\n",
    "    os.makedirs(os.path.dirname(save_fn_template), exist_ok=True)\n",
    "    for label in labels:\n",
    "        maps[label].to_filename(save_fn_template.format(label))"
   ]
  },
  {
   "cell_type": "code",
   "execution_count": null,
   "metadata": {},
   "outputs": [],
   "source": [
    "\n",
    "all_subjects = [x.split('-')[1].split('.')[0] for x in sorted(glob.glob('../derivatives/fmriprep/fmriprep/sub-*.html'))]\n",
    "# exclude subs that aren't fmriprepped yet\n",
    "# all_subjects = ['043','044']\n",
    "for subject in all_subjects:\n",
    "    print(subject)\n",
    "    load_Pauli_atlas_1p5mm(subject)\n",
    "    "
   ]
  },
  {
   "cell_type": "code",
   "execution_count": null,
   "metadata": {},
   "outputs": [],
   "source": [
    "def find_rois(sub, atlas_name='ATAG', space='T1w'):\n",
    "    if atlas_name == 'ATAG':\n",
    "        if space == 'MNI152NLin2009cAsym' or space == 'mni':\n",
    "            ### Rois in MNI09c-space\n",
    "            mask_dir='/home/Public/trondheim/sourcedata/masks/MNI152NLin2009cAsym_res-1p5'\n",
    "            fns = sorted(glob.glob(mask_dir + '/space-*'))\n",
    "            names = [re.match('.*space-(?P<space>[a-zA-Z0-9]+)_res-1p5_label-(?P<label>[a-zA-Z0-9]+)_probseg_def-img.nii.gz', fn).groupdict()['label'] for fn in fns]\n",
    "        else:\n",
    "            mask_dir = f'../derivatives/masks_atag_func/sub-{sub}/anat/sub-{sub}_*.nii.gz'\n",
    "            fns = sorted(glob.glob(mask_dir))\n",
    "            names = [re.match('.*space-(?P<space>[a-zA-Z0-9]+)_desc-mask-(?P<label>[a-zA-Z0-9]+).nii.gz', fn).groupdict()['label'] for fn in fns]\n",
    "    elif atlas_name == 'MASSP':\n",
    "        mask_dir = f'../derivatives/masks_massp_func/sub-{sub}/anat/sub-{sub}_*.nii.gz'\n",
    "        fns = sorted(glob.glob(mask_dir))\n",
    "        names = [re.match('.*space-(?P<space>[a-zA-Z0-9]+)_desc-mask-(?P<label>\\S+).nii.gz', fn).groupdict()['label'] for fn in fns]\n",
    "    elif atlas_name == 'Pauli':\n",
    "        mask_dir = f'../derivatives/masks_Pauli_func/sub-{sub}/anat/sub-{sub}_*.nii.gz'\n",
    "        fns = sorted(glob.glob(mask_dir))\n",
    "        names = [re.match('.*space-(?P<space>[a-zA-Z0-9]+)_desc-mask-(?P<label>\\S+).nii.gz', fn).groupdict()['label'] for fn in fns]\n",
    "\n",
    "    roi_dict = dict(zip(names, fns))\n",
    "    return roi_dict\n",
    "\n",
    "def load_atlas(sub, atlas_name='Pauli', space='T1w'):\n",
    "    from nilearn import image\n",
    "    \n",
    "    roi_dict = find_rois(sub, atlas_name, space)\n",
    "    combined = image.concat_imgs(roi_dict.values())\n",
    "    \n",
    "    class AttrDict(dict):\n",
    "        def __init__(self, *args, **kwargs):\n",
    "            super(AttrDict, self).__init__(*args, **kwargs)\n",
    "            self.__dict__ = self\n",
    "            \n",
    "    roi_atlas = AttrDict({'maps': combined,\n",
    "                          'labels': roi_dict.keys()})\n",
    "    \n",
    "    return roi_atlas"
   ]
  },
  {
   "cell_type": "code",
   "execution_count": null,
   "metadata": {},
   "outputs": [],
   "source": [
    "masks_t1w = nib.load('../derivatives/masks_Pauli_func/sub-004/anat/sub-004_space-T1w_desc-mask-Ca-l.nii.gz')\n",
    "t1w = nib.load('../derivatives/fmriprep/fmriprep/sub-004/anat/sub-004_desc-preproc_T1w.nii.gz')\n",
    "plotting.plot_stat_map(masks_t1w, bg_img=t1w)"
   ]
  },
  {
   "cell_type": "code",
   "execution_count": null,
   "metadata": {},
   "outputs": [],
   "source": [
    "### looks weird here but looks fine in fseleyes"
   ]
  },
  {
   "cell_type": "code",
   "execution_count": null,
   "metadata": {},
   "outputs": [],
   "source": [
    "sub = '004'\n",
    "boldref = sorted(glob.glob(f'../derivatives/fmriprep/fmriprep/sub-{sub}/ses-*/func/sub-{sub}_ses-*_task-*_run-*_space-T1w_boldref.nii.gz'))[3]\n",
    "nilearn.plotting.plot_prob_atlas(load_atlas(sub).maps, bg_img=boldref)"
   ]
  },
  {
   "cell_type": "code",
   "execution_count": null,
   "metadata": {},
   "outputs": [],
   "source": []
  },
  {
   "cell_type": "markdown",
   "metadata": {},
   "source": [
    "### ignore below. The lead_dbs atlas version was fucked up, so downloaded it again from neurovault which is already in MNI09c asym space"
   ]
  },
  {
   "cell_type": "markdown",
   "metadata": {},
   "source": [
    "### coregister Pauli template to mni_icbm152_t1_tal_nlin_asym_09c_brain.nii\n",
    "\n",
    "rigid registration failed (brain shifted but affines matched)\n",
    "\n",
    "trying affine registration"
   ]
  },
  {
   "cell_type": "code",
   "execution_count": null,
   "metadata": {},
   "outputs": [],
   "source": [
    "import nighres\n",
    "\n",
    "def apply_ants(source,target):\n",
    "    \n",
    "    nighres.registration.embedded_antsreg(source,target,run_rigid=False,run_affine=True,ignore_header=True,ignore_affine=True, overwrite=True,\n",
    "                                         save_data=True,output_dir='../sourcedata/masks/Pauli2017_atlas/template',file_name='Pauli2017_MNItemplate_to_MNI09c_asym.nii.gz')\n",
    "\n",
    "    \n",
    "source = '/home/atrutti1/Documents/CIT168_T1w_700um.nii.gz'\n",
    "target = '../sourcedata/templates/mni_icbm152_t1_tal_nlin_asym_09c_brain.nii'\n",
    "apply_ants(source,target)"
   ]
  },
  {
   "cell_type": "code",
   "execution_count": null,
   "metadata": {},
   "outputs": [],
   "source": [
    "\n",
    "structures =sorted(glob.glob('/home/Public/trondheim/sourcedata/lead_dbs_atlases/CIT168_Reinf_Learn*/mixed/*.nii.gz'))\n",
    "structures\n",
    "#structures = [x.split('/')[-1].split('-')[-1] for x in sorted(glob.glob('/home/Public/trondheim/sourcedata/lead_dbs_atlases/CIT168_Reinf_Learn*/mixed/*.nii.gz'))]\n",
    "\n"
   ]
  },
  {
   "cell_type": "code",
   "execution_count": null,
   "metadata": {},
   "outputs": [],
   "source": [
    "# the Pauli at;as affines do not seem to match the template...\n",
    "\n",
    "import nighres\n",
    "\n",
    "def apply_ants(source,target):\n",
    "    \n",
    "    nighres.registration.embedded_antsreg(source,target,run_rigid=False,run_affine=True,ignore_header=True,ignore_affine=True, overwrite=True,\n",
    "                                         save_data=True,output_dir='../sourcedata/masks/Pauli2017_atlas/template',file_name='Pauli2017_MNItemplate_to_MNI09c_asym.nii.gz')\n",
    "\n",
    "    \n",
    "source = '/home/atrutti1/Documents/CIT168_T1w_700um.nii.gz'\n",
    "target = '../sourcedata/templates/mni_icbm152_t1_tal_nlin_asym_09c_brain.nii'\n",
    "apply_ants(source,target)"
   ]
  },
  {
   "cell_type": "code",
   "execution_count": null,
   "metadata": {},
   "outputs": [],
   "source": [
    "\n",
    "structures_list = [x.split('/')[-1] for x in sorted(glob.glob('/home/Public/trondheim/sourcedata/lead_dbs_atlases/CIT168_Reinf_Learn*/mixed/*.nii.gz'))]\n",
    "structures_list\n",
    "#structures = [x.split('/')[-1].split('-')[-1] for x in sorted(glob.glob('/home/Public/trondheim/sourcedata/lead_dbs_atlases/CIT168_Reinf_Learn*/mixed/*.nii.gz'))]\n",
    "\n"
   ]
  },
  {
   "cell_type": "code",
   "execution_count": null,
   "metadata": {},
   "outputs": [],
   "source": [
    "structures = []\n",
    "for x, i in enumerate(structures_list):\n",
    "\n",
    "    label = structures_list[x].split('.')[0]\n",
    "    \n",
    "    structures.append(label)\n",
    "structures"
   ]
  },
  {
   "cell_type": "code",
   "execution_count": null,
   "metadata": {},
   "outputs": [],
   "source": []
  },
  {
   "cell_type": "markdown",
   "metadata": {},
   "source": [
    "### transform Pauli masks to mni_icbm152_t1_tal_nlin_asym_09c_brain.nii space\n"
   ]
  },
  {
   "cell_type": "code",
   "execution_count": null,
   "metadata": {},
   "outputs": [],
   "source": [
    "def transform_atlas2mni(structure):\n",
    "    \n",
    "    print(structure)\n",
    "    image = '/home/Public/trondheim/sourcedata/lead_dbs_atlases/CIT168_Reinf_Learn (Pauli 2017) - imported from CIT168//mixed/'+structure+'.nii.gz'\n",
    "    mapping = '/home/Public/trondheim/sourcedata/masks/Pauli2017_atlas/template/Pauli2017_MNItemplate_to_MNI09c_asym_ants-map.nii.gz'\n",
    "    output_dir='/home/Public/trondheim/sourcedata/masks/Pauli2017_atlas/'\n",
    "    file_name = structure+'_MNI9c_asym_'\n",
    "    #print(file_name)\n",
    "    nighres.registration.apply_coordinate_mappings(image, mapping, output_dir = output_dir, file_name = file_name, save_data=True)\n",
    "    \n",
    "with mp.Pool(1) as p:\n",
    "    p.map(transform_atlas2mni, structures) \n",
    "    "
   ]
  },
  {
   "cell_type": "code",
   "execution_count": null,
   "metadata": {},
   "outputs": [],
   "source": [
    "all_subjects = [x.split('/')[-2].split('-')[-1] for x in sorted(glob.glob('../derivatives/fmriprep/fmriprep/sub*/ses-anatomical'))]\n",
    "# all_subjects = ['024']\n",
    "def warp_masks_2_t1w(sub, overwrite=True):\n",
    "    print(sub)\n",
    "    regex_masks = re.compile('.*/MNI152NLin2009cAsym_1mm_label-(?P<label>\\S+).nii.gz')\n",
    "    all_masks = sorted(glob.glob('../sourcedata/lead_dbs_atlases/CIT168_Reinf_Learn*/*.nii.gz'))\n",
    "    \n",
    "    output_img_base = f'../derivatives/masks_Pauli2017_func/sub-{sub}/anat/sub-{sub}_space-T1w_desc-mask-{{label}}.nii.gz'\n",
    "#     print(output_img_base)\n",
    "    for mask in all_masks:\n",
    "        mask_label = regex_masks.match(mask).groupdict()['label']\n",
    "\n",
    "        final_img_fn = output_img_base.format(label=mask_label)\n",
    "        if not os.path.exists(final_img_fn) or overwrite:\n",
    "            os.makedirs(os.path.dirname(final_img_fn), exist_ok=True)\n",
    "            tmp_img_name = apply_warp(mask, sub=sub, t1w_to_MNI=False)\n",
    "            shutil.move(tmp_img_name, final_img_fn)\n",
    "            \n",
    "# _ = [warp_masks_2_t1w(x) for x in all_subjects]\n",
    "with mp.Pool(20) as p:\n",
    "    p.map(warp_masks_2_t1w, all_subjects)"
   ]
  },
  {
   "cell_type": "code",
   "execution_count": null,
   "metadata": {},
   "outputs": [],
   "source": []
  },
  {
   "cell_type": "markdown",
   "metadata": {},
   "source": [
    "# warp Pijnenburg Brodmann atlas"
   ]
  },
  {
   "cell_type": "markdown",
   "metadata": {},
   "source": [
    "## co-register MNI templates\n"
   ]
  },
  {
   "cell_type": "code",
   "execution_count": null,
   "metadata": {},
   "outputs": [],
   "source": [
    "import nighres\n",
    "\n",
    "def apply_ants(source,target):\n",
    "    \n",
    "    nighres.registration.embedded_antsreg(source,target,run_rigid=True,run_affine=False,ignore_header=True,ignore_affine=True, overwrite=True,\n",
    "                                         save_data=True,output_dir='../sourcedata/masks/Pijnenburg_Brodmann',file_name='MNI09a-nlin-sym_to_MNI2009c.nii.gz')\n",
    "\n",
    "source = '../sourcedata/templates/mni_icbm152_nlin_sym_09a/mni_icbm152_t1_tal_nlin_sym_09a_brain.nii.gz'\n",
    "target = '../sourcedata/templates/mni_icbm152_t1_tal_nlin_asym_09c_brain.nii'\n",
    "apply_ants(source,target)"
   ]
  },
  {
   "cell_type": "code",
   "execution_count": null,
   "metadata": {},
   "outputs": [],
   "source": [
    "### check affines\n",
    "\n",
    "# good!"
   ]
  },
  {
   "cell_type": "markdown",
   "metadata": {},
   "source": [
    "### convert atlas to MNI09c asym template"
   ]
  },
  {
   "cell_type": "code",
   "execution_count": null,
   "metadata": {},
   "outputs": [],
   "source": [
    "import nighres\n",
    "\n",
    "def apply_ants(source,target):\n",
    "    \n",
    "    nighres.registration.embedded_antsreg(source,target,run_rigid=True,run_affine=False,ignore_header=True,ignore_affine=True, overwrite=True,\n",
    "                                         save_data=True,output_dir='../sourcedata/masks/Pijnenburg_Brodmann/MNI09c_Brodmann/',file_name='BrodmannICBM152_2_MNI2009c.nii.gz')\n",
    "\n",
    "source = '../sourcedata/masks/Pijnenburg_Brodmann/Brodmann/Brodmann_ICBM152.nii.gz'\n",
    "target = '../sourcedata/templates/mni_icbm152_t1_tal_nlin_asym_09c_brain.nii'\n",
    "apply_ants(source,target)"
   ]
  },
  {
   "cell_type": "markdown",
   "metadata": {},
   "source": [
    "### extract Brodmann areas to make dlPFC, mPFC and PPC masks"
   ]
  },
  {
   "cell_type": "code",
   "execution_count": null,
   "metadata": {},
   "outputs": [],
   "source": [
    "extract_lh_structures= ['fslmaths /home/Public/trondheim/sourcedata/masks/Pijnenburg_Brodmann/MNI09c_Brodmann/BrodmannICBM152_2_MNI2009c_ants-def0.nii.gz -thr 1007 -uthr 1007 /home/Public/trondheim/sourcedata/masks/Pijnenburg_Brodmann/MNI09c_Brodmann/dlPFC_BA8-BA9-BA46/BA8-l.nii.gz',\n",
    "                        'fslmaths /home/Public/trondheim/sourcedata/masks/Pijnenburg_Brodmann/MNI09c_Brodmann/BrodmannICBM152_2_MNI2009c_ants-def0.nii.gz -thr 1008 -uthr 1008 /home/Public/trondheim/sourcedata/masks/Pijnenburg_Brodmann/MNI09c_Brodmann/dlPFC_BA8-BA9-BA46/BA9-l.nii.gz',\n",
    "                        'fslmaths /home/Public/trondheim/sourcedata/masks/Pijnenburg_Brodmann/MNI09c_Brodmann/BrodmannICBM152_2_MNI2009c_ants-def0.nii.gz -thr 1038 -uthr 1038 /home/Public/trondheim/sourcedata/masks/Pijnenburg_Brodmann/MNI09c_Brodmann/dlPFC_BA8-BA9-BA46/BA46-l.nii.gz',\n",
    "                        'fslmaths /home/Public/trondheim/sourcedata/masks/Pijnenburg_Brodmann/MNI09c_Brodmann/BrodmannICBM152_2_MNI2009c_ants-def0.nii.gz -thr 1020 -uthr 1020 /home/Public/trondheim/sourcedata/masks/Pijnenburg_Brodmann/MNI09c_Brodmann/mPFC_BA24_BA32/BA24-l.nii.gz',\n",
    "                        'fslmaths /home/Public/trondheim/sourcedata/masks/Pijnenburg_Brodmann/MNI09c_Brodmann/BrodmannICBM152_2_MNI2009c_ants-def0.nii.gz -thr 1026 -uthr 1026 /home/Public/trondheim/sourcedata/masks/Pijnenburg_Brodmann/MNI09c_Brodmann/mPFC_BA24_BA32/BA32-l.nii.gz',\n",
    "                        'fslmaths /home/Public/trondheim/sourcedata/masks/Pijnenburg_Brodmann/MNI09c_Brodmann/BrodmannICBM152_2_MNI2009c_ants-def0.nii.gz -thr 1006 -uthr 1006 /home/Public/trondheim/sourcedata/masks/Pijnenburg_Brodmann/MNI09c_Brodmann/PPC_BA7_BA40/BA74-l.nii.gz',\n",
    "                        'fslmaths /home/Public/trondheim/sourcedata/masks/Pijnenburg_Brodmann/MNI09c_Brodmann/BrodmannICBM152_2_MNI2009c_ants-def0.nii.gz -thr 1033 -uthr 1033 /home/Public/trondheim/sourcedata/masks/Pijnenburg_Brodmann/MNI09c_Brodmann/PPC_BA7_BA40/BA40-l.nii.gz']\n",
    "                        \n",
    "for command in extract_lh_structures:           \n",
    "\n",
    "    print(command)\n",
    "    try:\n",
    "        subprocess.check_output(command, shell=True, stderr=subprocess.STDOUT)\n",
    "    except subprocess.CalledProcessError as e:\n",
    "        msg = 'execution failed (error code '+str(e.returncode)+')\\n Output: '+str(e.output)\n",
    "        raise subprocess.CalledProcessError(msg)\n",
    "\n",
    "                         \n"
   ]
  },
  {
   "cell_type": "code",
   "execution_count": null,
   "metadata": {},
   "outputs": [],
   "source": [
    "extract_rh_structures= ['fslmaths /home/Public/trondheim/sourcedata/masks/Pijnenburg_Brodmann/MNI09c_Brodmann/BrodmannICBM152_2_MNI2009c_ants-def0.nii.gz -thr 2007 -uthr 2007 /home/Public/trondheim/sourcedata/masks/Pijnenburg_Brodmann/MNI09c_Brodmann/dlPFC_BA8-BA9-BA46/BA8-r.nii.gz',\n",
    "                        'fslmaths /home/Public/trondheim/sourcedata/masks/Pijnenburg_Brodmann/MNI09c_Brodmann/BrodmannICBM152_2_MNI2009c_ants-def0.nii.gz -thr 2008 -uthr 2008 /home/Public/trondheim/sourcedata/masks/Pijnenburg_Brodmann/MNI09c_Brodmann/dlPFC_BA8-BA9-BA46/BA9-r.nii.gz',\n",
    "                        'fslmaths /home/Public/trondheim/sourcedata/masks/Pijnenburg_Brodmann/MNI09c_Brodmann/BrodmannICBM152_2_MNI2009c_ants-def0.nii.gz -thr 2038 -uthr 2038 /home/Public/trondheim/sourcedata/masks/Pijnenburg_Brodmann/MNI09c_Brodmann/dlPFC_BA8-BA9-BA46/BA46-r.nii.gz',\n",
    "                        'fslmaths /home/Public/trondheim/sourcedata/masks/Pijnenburg_Brodmann/MNI09c_Brodmann/BrodmannICBM152_2_MNI2009c_ants-def0.nii.gz -thr 2020 -uthr 2020 /home/Public/trondheim/sourcedata/masks/Pijnenburg_Brodmann/MNI09c_Brodmann/mPFC_BA24_BA32/BA24-r.nii.gz',\n",
    "                        'fslmaths /home/Public/trondheim/sourcedata/masks/Pijnenburg_Brodmann/MNI09c_Brodmann/BrodmannICBM152_2_MNI2009c_ants-def0.nii.gz -thr 2026 -uthr 2026 /home/Public/trondheim/sourcedata/masks/Pijnenburg_Brodmann/MNI09c_Brodmann/mPFC_BA24_BA32/BA32-r.nii.gz',\n",
    "                        'fslmaths /home/Public/trondheim/sourcedata/masks/Pijnenburg_Brodmann/MNI09c_Brodmann/BrodmannICBM152_2_MNI2009c_ants-def0.nii.gz -thr 2006 -uthr 2006 /home/Public/trondheim/sourcedata/masks/Pijnenburg_Brodmann/MNI09c_Brodmann/PPC_BA7_BA40/BA74-r.nii.gz',\n",
    "                        'fslmaths /home/Public/trondheim/sourcedata/masks/Pijnenburg_Brodmann/MNI09c_Brodmann/BrodmannICBM152_2_MNI2009c_ants-def0.nii.gz -thr 2033 -uthr 2033 /home/Public/trondheim/sourcedata/masks/Pijnenburg_Brodmann/MNI09c_Brodmann/PPC_BA7_BA40/BA40-r.nii.gz']\n",
    "                        \n",
    "for command in extract_rh_structures:           \n",
    "\n",
    "    print(command)\n",
    "    try:\n",
    "        subprocess.check_output(command, shell=True, stderr=subprocess.STDOUT)\n",
    "    except subprocess.CalledProcessError as e:\n",
    "        msg = 'execution failed (error code '+str(e.returncode)+')\\n Output: '+str(e.output)\n",
    "        raise subprocess.CalledProcessError(msg)\n",
    "\n",
    "                         \n"
   ]
  },
  {
   "cell_type": "markdown",
   "metadata": {},
   "source": [
    "### combine extracted Brodmann areas to make dlPFC, mPFC and PPC masks"
   ]
  },
  {
   "cell_type": "code",
   "execution_count": null,
   "metadata": {},
   "outputs": [],
   "source": [
    "masks = [x.split('/')[-1].split('_')[0] for x in sorted(glob.glob('/home/Public/trondheim/sourcedata/masks/Pijnenburg_Brodmann/MNI09c_Brodmann/*BA*'))]\n",
    "masks"
   ]
  },
  {
   "cell_type": "code",
   "execution_count": null,
   "metadata": {},
   "outputs": [],
   "source": [
    "directories = sorted(glob.glob('/home/Public/trondheim/sourcedata/masks/Pijnenburg_Brodmann/MNI09c_Brodmann/*BA*'))\n",
    "directories"
   ]
  },
  {
   "cell_type": "code",
   "execution_count": null,
   "metadata": {},
   "outputs": [],
   "source": [
    "hemispheres = ['l', 'r']\n",
    "\n",
    "\n",
    "# for directory in directories: \n",
    "for mask in masks:\n",
    "    directory = '/home/Public/trondheim/sourcedata/masks/Pijnenburg_Brodmann/MNI09c_Brodmann/'+mask+'_*'\n",
    "    output_dir = '/home/Public/trondheim/sourcedata/masks/Pijnenburg_Brodmann/MNI09c_Brodmann/FPN_masks'\n",
    "#     print(directory)\n",
    "    for hem in hemispheres:\n",
    "        list_structures = sorted(glob.glob(directory+'/*'+hem+'.nii.gz'))\n",
    "#         print(list_structures)\n",
    "        #if len(list_structures) > 2:\n",
    "\n",
    "        if mask == 'dlPFC':\n",
    "            command = 'fslmaths '+list_structures[0]+ ' -add '+list_structures[1]+ ' -add '+list_structures[2]+ ' '+output_dir+'/'+mask+'-'+hem+'.nii.gz'\n",
    "        else:\n",
    "            command = 'fslmaths '+list_structures[0]+ ' -add '+list_structures[1]+' '+output_dir+'/'+mask+'-'+hem+'.nii.gz'\n",
    "\n",
    "        print(command)\n",
    "        try:\n",
    "            subprocess.check_output(command, shell=True, stderr=subprocess.STDOUT)\n",
    "        except subprocess.CalledProcessError as e:\n",
    "            msg = 'execution failed (error code '+str(e.returncode)+')\\n Output: '+str(e.output)\n",
    "            raise subprocess.CalledProcessError(msg)\n"
   ]
  },
  {
   "cell_type": "markdown",
   "metadata": {},
   "source": [
    "### binarize\n"
   ]
  },
  {
   "cell_type": "code",
   "execution_count": null,
   "metadata": {},
   "outputs": [],
   "source": [
    "FPN_masks = glob.glob('/home/Public/trondheim/sourcedata/masks/Pijnenburg_Brodmann/MNI09c_Brodmann/FPN_masks/*')\n",
    "\n",
    "for mask in FPN_masks:\n",
    "#     print(mask)\n",
    "    \n",
    "    command = 'fslmaths '+mask+' -bin '+mask\n",
    "    \n",
    "    print(command)\n",
    "    try:\n",
    "        subprocess.check_output(command, shell=True, stderr=subprocess.STDOUT)\n",
    "    except subprocess.CalledProcessError as e:\n",
    "        msg = 'execution failed (error code '+str(e.returncode)+')\\n Output: '+str(e.output)\n",
    "        raise subprocess.CalledProcessError(msg)\n",
    "\n"
   ]
  },
  {
   "cell_type": "markdown",
   "metadata": {},
   "source": [
    "### warp to t1"
   ]
  },
  {
   "cell_type": "code",
   "execution_count": null,
   "metadata": {},
   "outputs": [],
   "source": [
    "all_subjects = [x.split('/')[-2].split('-')[-1] for x in sorted(glob.glob('../derivatives/fmriprep/fmriprep/sub*/ses-anatomical'))]\n",
    "# all_subjects = ['024']\n",
    "def warp_masks_2_t1w(sub, overwrite=True):\n",
    "    print(sub)\n",
    "    regex_masks = re.compile('.*/(?P<label>\\S+).nii.gz')\n",
    "    all_masks = sorted(glob.glob('../sourcedata/masks/Pijnenburg_Brodmann/MNI09c_Brodmann/FPN_masks/*.nii.gz'))\n",
    "#     print(all_masks)\n",
    "    output_img_base = f'../derivatives/masks_FPN_func/sub-{sub}/anat/sub-{sub}_space-T1w_desc-mask-{{label}}.nii.gz'\n",
    "    print(output_img_base)\n",
    "    for mask in all_masks:\n",
    "        mask_label = regex_masks.match(mask).groupdict()['label']\n",
    "#         print(mask_label)\n",
    "        final_img_fn = output_img_base.format(label=mask_label)\n",
    "        print(final_img_fn)\n",
    "\n",
    "        if not os.path.exists(final_img_fn) or overwrite:\n",
    "            os.makedirs(os.path.dirname(final_img_fn), exist_ok=True)\n",
    "            tmp_img_name = apply_warp(mask, sub=sub, t1w_to_MNI=False)\n",
    "            shutil.move(tmp_img_name, final_img_fn)\n",
    "            \n",
    "# _ = [warp_masks_2_t1w(x) for x in all_subjects]\n",
    "with mp.Pool(20) as p:\n",
    "    p.map(warp_masks_2_t1w, all_subjects)"
   ]
  },
  {
   "cell_type": "markdown",
   "metadata": {},
   "source": [
    "# select and warp masks for Nir-Cohen replication\n",
    "\n",
    "1. FPN masks\n",
    "\n",
    "        dlPFC --> BA 8, BA 9, BA 46\n",
    "         mPFC\\ACC --> BA 24, BA 32(we also have an ACC mask though...)\n",
    "         PPC --> BA 7, BA 40\n",
    "        --> FPN_masks: ../derivatives/masks_FPN_func/\n",
    "\n",
    "2. subcortical masks\n",
    "\n",
    "         caudate -->  Pauli Ca \n",
    "         putamen -->  Pauli Pu\n",
    "        --> derivatives/masks_Pauli_func/\n",
    "\n",
    "         pallidum --> MASSP GPi, GPe\n",
    "         thalamus --> MASSP Tha\n",
    "        --> derivatives/masks_massp_func/\n",
    "\n",
    "\n",
    "\n",
    "for future analyses (to also look at midbrain) also: \n",
    "\n",
    "\n",
    "     MASSP:\n",
    "        SN\n",
    "        VTA\n",
    "        PAG\n",
    "        STN\n",
    "        PPN\n",
    "        RN\n",
    "\n",
    "     Pauli:\n",
    "        SNc\n",
    "        SNr\n",
    "        VTA\n",
    "        PBP"
   ]
  },
  {
   "cell_type": "markdown",
   "metadata": {},
   "source": [
    "### 1. warp FPN masks"
   ]
  },
  {
   "cell_type": "code",
   "execution_count": null,
   "metadata": {},
   "outputs": [],
   "source": [
    "all_subjects = [x.split('/')[-2].split('-')[-1] for x in sorted(glob.glob('../derivatives/fmriprep/fmriprep/sub*/ses-anatomical'))]\n",
    "# all_subjects = ['024']\n",
    "def warp_masks_2_t1w(sub, overwrite=True):\n",
    "    print(sub)\n",
    "    regex_masks = re.compile('.*/(?P<label>\\S+).nii.gz')\n",
    "    all_masks = sorted(glob.glob('../sourcedata/masks/Pijnenburg_Brodmann/MNI09c_Brodmann/FPN_masks/*.nii.gz'))\n",
    "#     print(all_masks)\n",
    "    output_img_base = f'../derivatives/masks_WM-rep_func/sub-{sub}/anat/sub-{sub}_space-T1w_desc-mask-{{label}}.nii.gz'\n",
    "    print(output_img_base)\n",
    "    for mask in all_masks:\n",
    "        mask_label = regex_masks.match(mask).groupdict()['label']\n",
    "#         print(mask_label)\n",
    "        final_img_fn = output_img_base.format(label=mask_label)\n",
    "        print(final_img_fn)\n",
    "\n",
    "        if not os.path.exists(final_img_fn) or overwrite:\n",
    "            os.makedirs(os.path.dirname(final_img_fn), exist_ok=True)\n",
    "            tmp_img_name = apply_warp(mask, sub=sub, t1w_to_MNI=False)\n",
    "            shutil.move(tmp_img_name, final_img_fn)\n",
    "            \n",
    "# _ = [warp_masks_2_t1w(x) for x in all_subjects]\n",
    "with mp.Pool(20) as p:\n",
    "    p.map(warp_masks_2_t1w, all_subjects)"
   ]
  },
  {
   "cell_type": "markdown",
   "metadata": {},
   "source": [
    "### 2. copy Pauli masks\n",
    "\n",
    "--> Caudate, Putamen, accumbens, VTA, PBP, SNr, SNc\n",
    "\n",
    "--> also rename VTA to VTAnc"
   ]
  },
  {
   "cell_type": "markdown",
   "metadata": {},
   "source": [
    "    cd /home/Public/trondheim/derivatives/masks_Pauli_func\n",
    "\n",
    "\n",
    "    for subject in $(ls -d *)\n",
    "    do\n",
    "    echo ${subject}\n",
    "    cd ${subject}/anat/\n",
    "    scp ${subject}_space-T1w_desc-mask-Pu-l.nii.gz /home/Public/trondheim/derivatives/masks_WM-rep_func/${subject}/anat/${subject}_space-T1w_desc-mask-Pu-l.nii.gz\n",
    "    scp ${subject}_space-T1w_desc-mask-Pu-r.nii.gz /home/Public/trondheim/derivatives/masks_WM-rep_func/${subject}/anat/${subject}_space-T1w_desc-mask-Pu-r.nii.gz\n",
    "    scp ${subject}_space-T1w_desc-mask-Ca-l.nii.gz /home/Public/trondheim/derivatives/masks_WM-rep_func/${subject}/anat/${subject}_space-T1w_desc-mask-Ca-l.nii.gz\n",
    "    scp ${subject}_space-T1w_desc-mask-Ca-r.nii.gz /home/Public/trondheim/derivatives/masks_WM-rep_func/${subject}/anat/${subject}_space-T1w_desc-mask-Ca-r.nii.gz\n",
    "    scp ${subject}_space-T1w_desc-mask-NAC-l.nii.gz /home/Public/trondheim/derivatives/masks_WM-rep_func/${subject}/anat/${subject}_space-T1w_desc-mask-NAC-l.nii.gz\n",
    "    scp ${subject}_space-T1w_desc-mask-NAC-r.nii.gz /home/Public/trondheim/derivatives/masks_WM-rep_func/${subject}/anat/${subject}_space-T1w_desc-mask-NAC-r.nii.gz\n",
    "    scp ${subject}_space-T1w_desc-mask-PBP-l.nii.gz /home/Public/trondheim/derivatives/masks_WM-rep_func/${subject}/anat/${subject}_space-T1w_desc-mask-PBP-l.nii.gz\n",
    "    scp ${subject}_space-T1w_desc-mask-PBP-r.nii.gz /home/Public/trondheim/derivatives/masks_WM-rep_func/${subject}/anat/${subject}_space-T1w_desc-mask-PBP-r.nii.gz\n",
    "    scp ${subject}_space-T1w_desc-mask-VTA-l.nii.gz /home/Public/trondheim/derivatives/masks_WM-rep_func/${subject}/anat/${subject}_space-T1w_desc-mask-VTAnc-l.nii.gz\n",
    "    scp ${subject}_space-T1w_desc-mask-VTA-r.nii.gz /home/Public/trondheim/derivatives/masks_WM-rep_func/${subject}/anat/${subject}_space-T1w_desc-mask-VTAnc-r.nii.gz\n",
    "    scp ${subject}_space-T1w_desc-mask-SNr-r.nii.gz /home/Public/trondheim/derivatives/masks_WM-rep_func/${subject}/anat/${subject}_space-T1w_desc-mask-SNr-r.nii.gz\n",
    "    scp ${subject}_space-T1w_desc-mask-SNr-l.nii.gz /home/Public/trondheim/derivatives/masks_WM-rep_func/${subject}/anat/${subject}_space-T1w_desc-mask-SNr-l.nii.gz\n",
    "    scp ${subject}_space-T1w_desc-mask-SNr-r.nii.gz /home/Public/trondheim/derivatives/masks_WM-rep_func/${subject}/anat/${subject}_space-T1w_desc-mask-SNr-r.nii.gz\n",
    "    scp ${subject}_space-T1w_desc-mask-SNr-l.nii.gz /home/Public/trondheim/derivatives/masks_WM-rep_func/${subject}/anat/${subject}_space-T1w_desc-mask-SNr-l.nii.gz\n",
    "    scp ${subject}_space-T1w_desc-mask-SNc-r.nii.gz /home/Public/trondheim/derivatives/masks_WM-rep_func/${subject}/anat/${subject}_space-T1w_desc-mask-SNc-r.nii.gz\n",
    "    scp ${subject}_space-T1w_desc-mask-SNc-l.nii.gz /home/Public/trondheim/derivatives/masks_WM-rep_func/${subject}/anat/${subject}_space-T1w_desc-mask-SNc-l.nii.gz\n",
    "    cd ../../\n",
    "    done"
   ]
  },
  {
   "cell_type": "markdown",
   "metadata": {},
   "source": [
    "### 3. copy massp masks\n",
    "\n",
    "        SN\n",
    "        VTA\n",
    "        PAG\n",
    "        STN\n",
    "        PPN\n",
    "        RN\n",
    "\n",
    "        GPi\n",
    "        GPe\n",
    "        Tha"
   ]
  },
  {
   "cell_type": "markdown",
   "metadata": {},
   "source": [
    "    cd /home/Public/trondheim/derivatives/masks_massp_func\n",
    "#$(ls -d *)\n",
    "\n",
    "    for subject in $(ls -d sub-026) \n",
    "    do\n",
    "    echo ${subject}\n",
    "    cd ${subject}/anat/\n",
    "    scp ${subject}_space-T1w_desc-mask-VTA-l.nii.gz /home/Public/trondheim/derivatives/masks_WM-rep_func/${subject}/anat/${subject}_space-T1w_desc-mask-VTA-l.nii.gz\n",
    "    scp ${subject}_space-T1w_desc-mask-VTA-r.nii.gz /home/Public/trondheim/derivatives/masks_WM-rep_func/${subject}/anat/${subject}_space-T1w_desc-mask-VTA-r.nii.gz\n",
    "    scp ${subject}_space-T1w_desc-mask-Tha-r.nii.gz /home/Public/trondheim/derivatives/masks_WM-rep_func/${subject}/anat/${subject}_space-T1w_desc-mask-Tha-r.nii.gz\n",
    "    scp ${subject}_space-T1w_desc-mask-Tha-l.nii.gz /home/Public/trondheim/derivatives/masks_WM-rep_func/${subject}/anat/${subject}_space-T1w_desc-mask-Tha-l.nii.gz\n",
    "    scp ${subject}_space-T1w_desc-mask-SN-r.nii.gz /home/Public/trondheim/derivatives/masks_WM-rep_func/${subject}/anat/${subject}_space-T1w_desc-mask-SN-r.nii.gz\n",
    "    scp ${subject}_space-T1w_desc-mask-SN-l.nii.gz /home/Public/trondheim/derivatives/masks_WM-rep_func/${subject}/anat/${subject}_space-T1w_desc-mask-SN-l.nii.gz\n",
    "    scp ${subject}_space-T1w_desc-mask-GPi-l.nii.gz /home/Public/trondheim/derivatives/masks_WM-rep_func/${subject}/anat/${subject}_space-T1w_desc-mask-GPi-l.nii.gz\n",
    "    scp ${subject}_space-T1w_desc-mask-GPi-r.nii.gz /home/Public/trondheim/derivatives/masks_WM-rep_func/${subject}/anat/${subject}_space-T1w_desc-mask-GPi-r.nii.gz\n",
    "    scp ${subject}_space-T1w_desc-mask-GPe-l.nii.gz /home/Public/trondheim/derivatives/masks_WM-rep_func/${subject}/anat/${subject}_space-T1w_desc-mask-GPe-l.nii.gz\n",
    "    scp ${subject}_space-T1w_desc-mask-GPe-r.nii.gz /home/Public/trondheim/derivatives/masks_WM-rep_func/${subject}/anat/${subject}_space-T1w_desc-mask-GPe-r.nii.gz\n",
    "    scp ${subject}_space-T1w_desc-mask-PAG-l.nii.gz /home/Public/trondheim/derivatives/masks_WM-rep_func/${subject}/anat/${subject}_space-T1w_desc-mask-PAG-l.nii.gz\n",
    "    scp ${subject}_space-T1w_desc-mask-PAG-r.nii.gz /home/Public/trondheim/derivatives/masks_WM-rep_func/${subject}/anat/${subject}_space-T1w_desc-mask-PAG-r.nii.gz\n",
    "    scp ${subject}_space-T1w_desc-mask-PPN-l.nii.gz /home/Public/trondheim/derivatives/masks_WM-rep_func/${subject}/anat/${subject}_space-T1w_desc-mask-PPN-l.nii.gz\n",
    "    scp ${subject}_space-T1w_desc-mask-PPN-r.nii.gz /home/Public/trondheim/derivatives/masks_WM-rep_func/${subject}/anat/${subject}_space-T1w_desc-mask-PPN-r.nii.gz\n",
    "    scp ${subject}_space-T1w_desc-mask-STN-l.nii.gz /home/Public/trondheim/derivatives/masks_WM-rep_func/${subject}/anat/${subject}_space-T1w_desc-mask-STN-l.nii.gz\n",
    "    scp ${subject}_space-T1w_desc-mask-STN-r.nii.gz /home/Public/trondheim/derivatives/masks_WM-rep_func/${subject}/anat/${subject}_space-T1w_desc-mask-STN-r.nii.gz\n",
    "    scp ${subject}_space-T1w_desc-mask-RN-l.nii.gz /home/Public/trondheim/derivatives/masks_WM-rep_func/${subject}/anat/${subject}_space-T1w_desc-mask-RN-l.nii.gz\n",
    "    scp ${subject}_space-T1w_desc-mask-RN-r.nii.gz /home/Public/trondheim/derivatives/masks_WM-rep_func/${subject}/anat/${subject}_space-T1w_desc-mask-RN-r.nii.gz\n",
    "    cd ../../\n",
    "    done"
   ]
  },
  {
   "cell_type": "code",
   "execution_count": null,
   "metadata": {},
   "outputs": [],
   "source": []
  }
 ],
 "metadata": {
  "kernelspec": {
   "display_name": "py38",
   "language": "python",
   "name": "py38"
  },
  "language_info": {
   "codemirror_mode": {
    "name": "ipython",
    "version": 3
   },
   "file_extension": ".py",
   "mimetype": "text/x-python",
   "name": "python",
   "nbconvert_exporter": "python",
   "pygments_lexer": "ipython3",
   "version": "3.8.13"
  }
 },
 "nbformat": 4,
 "nbformat_minor": 5
}
